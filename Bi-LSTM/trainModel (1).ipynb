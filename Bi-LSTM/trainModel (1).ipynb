{
 "cells": [
  {
   "cell_type": "code",
   "execution_count": null,
   "id": "10dc5827-11cf-46bc-9da0-6a84343af328",
   "metadata": {},
   "outputs": [],
   "source": [
    "from getData import *\n",
    "get_data()"
   ]
  },
  {
   "cell_type": "code",
   "execution_count": 2,
   "id": "6e3922c2-354d-4018-b34c-3ed8f61870e2",
   "metadata": {},
   "outputs": [
    {
     "name": "stderr",
     "output_type": "stream",
     "text": [
      "2024-05-11 00:53:35.935326: E external/local_xla/xla/stream_executor/cuda/cuda_dnn.cc:9261] Unable to register cuDNN factory: Attempting to register factory for plugin cuDNN when one has already been registered\n",
      "2024-05-11 00:53:35.935363: E external/local_xla/xla/stream_executor/cuda/cuda_fft.cc:607] Unable to register cuFFT factory: Attempting to register factory for plugin cuFFT when one has already been registered\n",
      "2024-05-11 00:53:35.936025: E external/local_xla/xla/stream_executor/cuda/cuda_blas.cc:1515] Unable to register cuBLAS factory: Attempting to register factory for plugin cuBLAS when one has already been registered\n",
      "2024-05-11 00:53:35.940823: I tensorflow/core/platform/cpu_feature_guard.cc:182] This TensorFlow binary is optimized to use available CPU instructions in performance-critical operations.\n",
      "To enable the following instructions: SSE4.1 SSE4.2 AVX AVX2 FMA, in other operations, rebuild TensorFlow with the appropriate compiler flags.\n"
     ]
    }
   ],
   "source": [
    "from data_preprocessing import *\n",
    "from model import *\n",
    "import tensorflow as tf\n",
    "from sklearn.metrics import classification_report, accuracy_score\n",
    "import pandas as pd"
   ]
  },
  {
   "cell_type": "code",
   "execution_count": 2,
   "id": "c2703ce1-bae0-46df-bc8e-cb9a2855afaf",
   "metadata": {},
   "outputs": [
    {
     "name": "stdout",
     "output_type": "stream",
     "text": [
      "24\n"
     ]
    }
   ],
   "source": [
    "df = read_data_csv('data1.csv')\n",
    "print(len(df.iloc[len(df)-24:]))"
   ]
  },
  {
   "cell_type": "code",
   "execution_count": 3,
   "id": "1b9a5a31-c5d9-472f-a253-81940817f439",
   "metadata": {},
   "outputs": [
    {
     "data": {
      "text/html": [
       "<div>\n",
       "<style scoped>\n",
       "    .dataframe tbody tr th:only-of-type {\n",
       "        vertical-align: middle;\n",
       "    }\n",
       "\n",
       "    .dataframe tbody tr th {\n",
       "        vertical-align: top;\n",
       "    }\n",
       "\n",
       "    .dataframe thead th {\n",
       "        text-align: right;\n",
       "    }\n",
       "</style>\n",
       "<table border=\"1\" class=\"dataframe\">\n",
       "  <thead>\n",
       "    <tr style=\"text-align: right;\">\n",
       "      <th></th>\n",
       "      <th>CO2</th>\n",
       "      <th>PM10</th>\n",
       "      <th>PM25</th>\n",
       "      <th>NO</th>\n",
       "      <th>NO2</th>\n",
       "      <th>O3</th>\n",
       "      <th>SO2</th>\n",
       "      <th>AQI</th>\n",
       "    </tr>\n",
       "  </thead>\n",
       "  <tbody>\n",
       "    <tr>\n",
       "      <th>0</th>\n",
       "      <td>495.0</td>\n",
       "      <td>-14.0</td>\n",
       "      <td>-123.0</td>\n",
       "      <td>2.00</td>\n",
       "      <td>2.00</td>\n",
       "      <td>3.00</td>\n",
       "      <td>2.00</td>\n",
       "      <td>2.0</td>\n",
       "    </tr>\n",
       "    <tr>\n",
       "      <th>1</th>\n",
       "      <td>400.0</td>\n",
       "      <td>15.0</td>\n",
       "      <td>12.7</td>\n",
       "      <td>0.94</td>\n",
       "      <td>42.16</td>\n",
       "      <td>8.58</td>\n",
       "      <td>33.38</td>\n",
       "      <td>1.0</td>\n",
       "    </tr>\n",
       "    <tr>\n",
       "      <th>2</th>\n",
       "      <td>400.0</td>\n",
       "      <td>15.0</td>\n",
       "      <td>12.7</td>\n",
       "      <td>0.94</td>\n",
       "      <td>42.16</td>\n",
       "      <td>8.58</td>\n",
       "      <td>33.38</td>\n",
       "      <td>1.0</td>\n",
       "    </tr>\n",
       "    <tr>\n",
       "      <th>3</th>\n",
       "      <td>400.0</td>\n",
       "      <td>15.0</td>\n",
       "      <td>12.6</td>\n",
       "      <td>0.94</td>\n",
       "      <td>42.16</td>\n",
       "      <td>8.58</td>\n",
       "      <td>33.38</td>\n",
       "      <td>1.0</td>\n",
       "    </tr>\n",
       "    <tr>\n",
       "      <th>4</th>\n",
       "      <td>413.0</td>\n",
       "      <td>15.1</td>\n",
       "      <td>12.7</td>\n",
       "      <td>0.94</td>\n",
       "      <td>42.16</td>\n",
       "      <td>8.58</td>\n",
       "      <td>33.38</td>\n",
       "      <td>1.0</td>\n",
       "    </tr>\n",
       "    <tr>\n",
       "      <th>...</th>\n",
       "      <td>...</td>\n",
       "      <td>...</td>\n",
       "      <td>...</td>\n",
       "      <td>...</td>\n",
       "      <td>...</td>\n",
       "      <td>...</td>\n",
       "      <td>...</td>\n",
       "      <td>...</td>\n",
       "    </tr>\n",
       "    <tr>\n",
       "      <th>1994</th>\n",
       "      <td>636.0</td>\n",
       "      <td>11.0</td>\n",
       "      <td>5.0</td>\n",
       "      <td>8.72</td>\n",
       "      <td>56.21</td>\n",
       "      <td>2.57</td>\n",
       "      <td>61.04</td>\n",
       "      <td>2.0</td>\n",
       "    </tr>\n",
       "    <tr>\n",
       "      <th>1995</th>\n",
       "      <td>635.0</td>\n",
       "      <td>8.7</td>\n",
       "      <td>4.7</td>\n",
       "      <td>8.72</td>\n",
       "      <td>56.21</td>\n",
       "      <td>2.57</td>\n",
       "      <td>61.04</td>\n",
       "      <td>2.0</td>\n",
       "    </tr>\n",
       "    <tr>\n",
       "      <th>1996</th>\n",
       "      <td>635.0</td>\n",
       "      <td>8.7</td>\n",
       "      <td>4.7</td>\n",
       "      <td>8.72</td>\n",
       "      <td>56.21</td>\n",
       "      <td>2.57</td>\n",
       "      <td>61.04</td>\n",
       "      <td>2.0</td>\n",
       "    </tr>\n",
       "    <tr>\n",
       "      <th>1997</th>\n",
       "      <td>606.0</td>\n",
       "      <td>9.1</td>\n",
       "      <td>4.8</td>\n",
       "      <td>8.72</td>\n",
       "      <td>56.21</td>\n",
       "      <td>2.57</td>\n",
       "      <td>61.04</td>\n",
       "      <td>2.0</td>\n",
       "    </tr>\n",
       "    <tr>\n",
       "      <th>1998</th>\n",
       "      <td>606.0</td>\n",
       "      <td>9.1</td>\n",
       "      <td>4.8</td>\n",
       "      <td>8.72</td>\n",
       "      <td>56.21</td>\n",
       "      <td>2.57</td>\n",
       "      <td>61.04</td>\n",
       "      <td>2.0</td>\n",
       "    </tr>\n",
       "  </tbody>\n",
       "</table>\n",
       "<p>1999 rows × 8 columns</p>\n",
       "</div>"
      ],
      "text/plain": [
       "        CO2  PM10   PM25    NO    NO2    O3    SO2  AQI\n",
       "0     495.0 -14.0 -123.0  2.00   2.00  3.00   2.00  2.0\n",
       "1     400.0  15.0   12.7  0.94  42.16  8.58  33.38  1.0\n",
       "2     400.0  15.0   12.7  0.94  42.16  8.58  33.38  1.0\n",
       "3     400.0  15.0   12.6  0.94  42.16  8.58  33.38  1.0\n",
       "4     413.0  15.1   12.7  0.94  42.16  8.58  33.38  1.0\n",
       "...     ...   ...    ...   ...    ...   ...    ...  ...\n",
       "1994  636.0  11.0    5.0  8.72  56.21  2.57  61.04  2.0\n",
       "1995  635.0   8.7    4.7  8.72  56.21  2.57  61.04  2.0\n",
       "1996  635.0   8.7    4.7  8.72  56.21  2.57  61.04  2.0\n",
       "1997  606.0   9.1    4.8  8.72  56.21  2.57  61.04  2.0\n",
       "1998  606.0   9.1    4.8  8.72  56.21  2.57  61.04  2.0\n",
       "\n",
       "[1999 rows x 8 columns]"
      ]
     },
     "execution_count": 3,
     "metadata": {},
     "output_type": "execute_result"
    }
   ],
   "source": [
    "df.replace(to_replace=[-1.0], value=np.nan, inplace=True)\n",
    "df"
   ]
  },
  {
   "cell_type": "code",
   "execution_count": null,
   "id": "39954b6f-5cb4-4f6d-a036-018c26efd869",
   "metadata": {},
   "outputs": [],
   "source": [
    "fill_missing_values(df)\n",
    "df.drop(columns=['Unnamed: 0'], inplace=True)\n",
    "df"
   ]
  },
  {
   "cell_type": "code",
   "execution_count": 4,
   "id": "d3b86fdb-10df-42d5-a3dd-be33d6d03527",
   "metadata": {},
   "outputs": [
    {
     "name": "stdout",
     "output_type": "stream",
     "text": [
      "X train:  (1599, 3)\n",
      "y train:  (1599, 1)\n",
      "X test:  (400, 3)\n",
      "y test:  (400, 1)\n"
     ]
    }
   ],
   "source": [
    "X_train, X_test, y_train, y_test = train_test_split(df)\n",
    "print(\"X train: \", X_train.shape)\n",
    "print(\"y train: \", y_train.shape)\n",
    "print(\"X test: \", X_test.shape)\n",
    "print(\"y test: \", y_test.shape)"
   ]
  },
  {
   "cell_type": "code",
   "execution_count": 6,
   "id": "08770bff-bf3b-43d6-a257-aada20f645da",
   "metadata": {},
   "outputs": [],
   "source": [
    "# X_train_scaled, X_test_scaled = scale_data(X_train, X_test, ['PM25', 'PM10', 'CO2', 'NO', 'NO2', 'O3', 'SO2'])\n",
    "X_train_scaled, X_test_scaled = scale_data(X_train, X_test, ['PM25', 'PM10', 'CO2'])"
   ]
  },
  {
   "cell_type": "code",
   "execution_count": 7,
   "id": "a9f5bb35-fe6b-4138-a04b-617e08f54442",
   "metadata": {},
   "outputs": [
    {
     "name": "stdout",
     "output_type": "stream",
     "text": [
      "X train:  (1589, 10, 3)\n",
      "y train:  (1589, 8)\n",
      "X test:  (390, 10, 3)\n",
      "y test:  (390, 8)\n"
     ]
    }
   ],
   "source": [
    "X_train_final, y_train_final = window_slide(X_train_scaled.values, y_train)\n",
    "X_test_final, y_test_final = window_slide(X_test_scaled.values, y_test)\n",
    "# print(y_train_final[:20])\n",
    "onehot_labels_train = tf.keras.utils.to_categorical(y_train_final, num_classes=8)\n",
    "onehot_labels_test = tf.keras.utils.to_categorical(y_test_final, num_classes=8)\n",
    "\n",
    "print(\"X train: \", X_train_final.shape)\n",
    "print(\"y train: \", onehot_labels_train.shape)\n",
    "print(\"X test: \", X_test_final.shape)\n",
    "print(\"y test: \", onehot_labels_test.shape)"
   ]
  },
  {
   "cell_type": "code",
   "execution_count": 8,
   "id": "4cd7efeb-45d5-437a-9be3-c9fffd1bd50e",
   "metadata": {},
   "outputs": [
    {
     "name": "stdout",
     "output_type": "stream",
     "text": [
      "WARNING:tensorflow:Layer lstm will not use cuDNN kernels since it doesn't meet the criteria. It will use a generic GPU kernel as fallback when running on GPU.\n",
      "WARNING:tensorflow:Layer lstm will not use cuDNN kernels since it doesn't meet the criteria. It will use a generic GPU kernel as fallback when running on GPU.\n",
      "WARNING:tensorflow:Layer lstm will not use cuDNN kernels since it doesn't meet the criteria. It will use a generic GPU kernel as fallback when running on GPU.\n",
      "WARNING:tensorflow:Layer lstm_1 will not use cuDNN kernels since it doesn't meet the criteria. It will use a generic GPU kernel as fallback when running on GPU.\n",
      "WARNING:tensorflow:Layer lstm_1 will not use cuDNN kernels since it doesn't meet the criteria. It will use a generic GPU kernel as fallback when running on GPU.\n",
      "WARNING:tensorflow:Layer lstm_1 will not use cuDNN kernels since it doesn't meet the criteria. It will use a generic GPU kernel as fallback when running on GPU.\n"
     ]
    },
    {
     "name": "stderr",
     "output_type": "stream",
     "text": [
      "2024-05-10 14:51:08.893744: I external/local_xla/xla/stream_executor/cuda/cuda_executor.cc:901] successful NUMA node read from SysFS had negative value (-1), but there must be at least one NUMA node, so returning NUMA node zero. See more at https://github.com/torvalds/linux/blob/v6.0/Documentation/ABI/testing/sysfs-bus-pci#L344-L355\n",
      "2024-05-10 14:51:08.894093: I external/local_xla/xla/stream_executor/cuda/cuda_executor.cc:901] successful NUMA node read from SysFS had negative value (-1), but there must be at least one NUMA node, so returning NUMA node zero. See more at https://github.com/torvalds/linux/blob/v6.0/Documentation/ABI/testing/sysfs-bus-pci#L344-L355\n",
      "2024-05-10 14:51:08.960559: I external/local_xla/xla/stream_executor/cuda/cuda_executor.cc:901] successful NUMA node read from SysFS had negative value (-1), but there must be at least one NUMA node, so returning NUMA node zero. See more at https://github.com/torvalds/linux/blob/v6.0/Documentation/ABI/testing/sysfs-bus-pci#L344-L355\n",
      "2024-05-10 14:51:08.960858: I external/local_xla/xla/stream_executor/cuda/cuda_executor.cc:901] successful NUMA node read from SysFS had negative value (-1), but there must be at least one NUMA node, so returning NUMA node zero. See more at https://github.com/torvalds/linux/blob/v6.0/Documentation/ABI/testing/sysfs-bus-pci#L344-L355\n",
      "2024-05-10 14:51:08.961086: I external/local_xla/xla/stream_executor/cuda/cuda_executor.cc:901] successful NUMA node read from SysFS had negative value (-1), but there must be at least one NUMA node, so returning NUMA node zero. See more at https://github.com/torvalds/linux/blob/v6.0/Documentation/ABI/testing/sysfs-bus-pci#L344-L355\n",
      "2024-05-10 14:51:08.961306: I external/local_xla/xla/stream_executor/cuda/cuda_executor.cc:901] successful NUMA node read from SysFS had negative value (-1), but there must be at least one NUMA node, so returning NUMA node zero. See more at https://github.com/torvalds/linux/blob/v6.0/Documentation/ABI/testing/sysfs-bus-pci#L344-L355\n",
      "2024-05-10 14:51:09.058799: I external/local_xla/xla/stream_executor/cuda/cuda_executor.cc:901] successful NUMA node read from SysFS had negative value (-1), but there must be at least one NUMA node, so returning NUMA node zero. See more at https://github.com/torvalds/linux/blob/v6.0/Documentation/ABI/testing/sysfs-bus-pci#L344-L355\n",
      "2024-05-10 14:51:09.059009: I external/local_xla/xla/stream_executor/cuda/cuda_executor.cc:901] successful NUMA node read from SysFS had negative value (-1), but there must be at least one NUMA node, so returning NUMA node zero. See more at https://github.com/torvalds/linux/blob/v6.0/Documentation/ABI/testing/sysfs-bus-pci#L344-L355\n",
      "2024-05-10 14:51:09.059167: I external/local_xla/xla/stream_executor/cuda/cuda_executor.cc:901] successful NUMA node read from SysFS had negative value (-1), but there must be at least one NUMA node, so returning NUMA node zero. See more at https://github.com/torvalds/linux/blob/v6.0/Documentation/ABI/testing/sysfs-bus-pci#L344-L355\n",
      "2024-05-10 14:51:09.059314: I external/local_xla/xla/stream_executor/cuda/cuda_executor.cc:901] successful NUMA node read from SysFS had negative value (-1), but there must be at least one NUMA node, so returning NUMA node zero. See more at https://github.com/torvalds/linux/blob/v6.0/Documentation/ABI/testing/sysfs-bus-pci#L344-L355\n",
      "2024-05-10 14:51:09.059461: I external/local_xla/xla/stream_executor/cuda/cuda_executor.cc:901] successful NUMA node read from SysFS had negative value (-1), but there must be at least one NUMA node, so returning NUMA node zero. See more at https://github.com/torvalds/linux/blob/v6.0/Documentation/ABI/testing/sysfs-bus-pci#L344-L355\n",
      "2024-05-10 14:51:09.059607: I external/local_xla/xla/stream_executor/cuda/cuda_executor.cc:901] successful NUMA node read from SysFS had negative value (-1), but there must be at least one NUMA node, so returning NUMA node zero. See more at https://github.com/torvalds/linux/blob/v6.0/Documentation/ABI/testing/sysfs-bus-pci#L344-L355\n",
      "2024-05-10 14:51:09.068488: I external/local_xla/xla/stream_executor/cuda/cuda_executor.cc:901] successful NUMA node read from SysFS had negative value (-1), but there must be at least one NUMA node, so returning NUMA node zero. See more at https://github.com/torvalds/linux/blob/v6.0/Documentation/ABI/testing/sysfs-bus-pci#L344-L355\n",
      "2024-05-10 14:51:09.068699: I external/local_xla/xla/stream_executor/cuda/cuda_executor.cc:901] successful NUMA node read from SysFS had negative value (-1), but there must be at least one NUMA node, so returning NUMA node zero. See more at https://github.com/torvalds/linux/blob/v6.0/Documentation/ABI/testing/sysfs-bus-pci#L344-L355\n",
      "2024-05-10 14:51:09.068884: I external/local_xla/xla/stream_executor/cuda/cuda_executor.cc:901] successful NUMA node read from SysFS had negative value (-1), but there must be at least one NUMA node, so returning NUMA node zero. See more at https://github.com/torvalds/linux/blob/v6.0/Documentation/ABI/testing/sysfs-bus-pci#L344-L355\n",
      "2024-05-10 14:51:09.069053: I external/local_xla/xla/stream_executor/cuda/cuda_executor.cc:901] successful NUMA node read from SysFS had negative value (-1), but there must be at least one NUMA node, so returning NUMA node zero. See more at https://github.com/torvalds/linux/blob/v6.0/Documentation/ABI/testing/sysfs-bus-pci#L344-L355\n",
      "2024-05-10 14:51:09.069174: W tensorflow/core/common_runtime/gpu/gpu_bfc_allocator.cc:47] Overriding orig_value setting because the TF_FORCE_GPU_ALLOW_GROWTH environment variable is set. Original config value was 0.\n",
      "2024-05-10 14:51:09.069231: I external/local_xla/xla/stream_executor/cuda/cuda_executor.cc:901] successful NUMA node read from SysFS had negative value (-1), but there must be at least one NUMA node, so returning NUMA node zero. See more at https://github.com/torvalds/linux/blob/v6.0/Documentation/ABI/testing/sysfs-bus-pci#L344-L355\n",
      "2024-05-10 14:51:09.069361: I tensorflow/core/common_runtime/gpu/gpu_device.cc:1929] Created device /job:localhost/replica:0/task:0/device:GPU:0 with 5515 MB memory:  -> device: 0, name: NVIDIA GeForce RTX 3060 Ti, pci bus id: 0000:0a:00.0, compute capability: 8.6\n",
      "2024-05-10 14:51:09.069589: W tensorflow/core/common_runtime/gpu/gpu_bfc_allocator.cc:47] Overriding orig_value setting because the TF_FORCE_GPU_ALLOW_GROWTH environment variable is set. Original config value was 0.\n",
      "2024-05-10 14:51:09.069654: I external/local_xla/xla/stream_executor/cuda/cuda_executor.cc:901] successful NUMA node read from SysFS had negative value (-1), but there must be at least one NUMA node, so returning NUMA node zero. See more at https://github.com/torvalds/linux/blob/v6.0/Documentation/ABI/testing/sysfs-bus-pci#L344-L355\n",
      "2024-05-10 14:51:09.069780: I tensorflow/core/common_runtime/gpu/gpu_device.cc:1929] Created device /job:localhost/replica:0/task:0/device:GPU:1 with 8670 MB memory:  -> device: 1, name: NVIDIA GeForce RTX 3060, pci bus id: 0000:09:00.0, compute capability: 8.6\n"
     ]
    },
    {
     "name": "stdout",
     "output_type": "stream",
     "text": [
      "Model: \"sequential\"\n",
      "_________________________________________________________________\n",
      " Layer (type)                Output Shape              Param #   \n",
      "=================================================================\n",
      " bidirectional (Bidirection  (None, 64)                9216      \n",
      " al)                                                             \n",
      "                                                                 \n",
      " repeat_vector (RepeatVecto  (None, 3, 64)             0         \n",
      " r)                                                              \n",
      "                                                                 \n",
      " bidirectional_1 (Bidirecti  (None, 64)                24832     \n",
      " onal)                                                           \n",
      "                                                                 \n",
      " dense (Dense)               (None, 8)                 520       \n",
      "                                                                 \n",
      "=================================================================\n",
      "Total params: 34568 (135.03 KB)\n",
      "Trainable params: 34568 (135.03 KB)\n",
      "Non-trainable params: 0 (0.00 Byte)\n",
      "_________________________________________________________________\n"
     ]
    }
   ],
   "source": [
    "model = build_lstm_autoencoder_model(X_train_final.shape[1:])\n",
    "model.summary()"
   ]
  },
  {
   "cell_type": "code",
   "execution_count": 9,
   "id": "e79d33de-5b9b-46db-8715-e914d9d003d5",
   "metadata": {},
   "outputs": [
    {
     "name": "stdout",
     "output_type": "stream",
     "text": [
      "Epoch 1/50\n"
     ]
    },
    {
     "name": "stderr",
     "output_type": "stream",
     "text": [
      "2024-05-10 14:51:17.427606: I external/local_xla/xla/service/service.cc:168] XLA service 0x55fecfb2e8d0 initialized for platform CUDA (this does not guarantee that XLA will be used). Devices:\n",
      "2024-05-10 14:51:17.427639: I external/local_xla/xla/service/service.cc:176]   StreamExecutor device (0): NVIDIA GeForce RTX 3060 Ti, Compute Capability 8.6\n",
      "2024-05-10 14:51:17.427645: I external/local_xla/xla/service/service.cc:176]   StreamExecutor device (1): NVIDIA GeForce RTX 3060, Compute Capability 8.6\n",
      "2024-05-10 14:51:17.433283: I tensorflow/compiler/mlir/tensorflow/utils/dump_mlir_util.cc:269] disabling MLIR crash reproducer, set env var `MLIR_CRASH_REPRODUCER_DIRECTORY` to enable.\n",
      "2024-05-10 14:51:17.448742: I external/local_xla/xla/stream_executor/cuda/cuda_dnn.cc:454] Loaded cuDNN version 8907\n",
      "WARNING: All log messages before absl::InitializeLog() is called are written to STDERR\n",
      "I0000 00:00:1715352677.551808 3564484 device_compiler.h:186] Compiled cluster using XLA!  This line is logged at most once for the lifetime of the process.\n"
     ]
    },
    {
     "name": "stdout",
     "output_type": "stream",
     "text": [
      "199/199 [==============================] - 8s 27ms/step - loss: 2.0372 - accuracy: 0.4412\n",
      "Epoch 2/50\n",
      "199/199 [==============================] - 5s 27ms/step - loss: 1.7272 - accuracy: 0.4607\n",
      "Epoch 3/50\n",
      "199/199 [==============================] - 5s 27ms/step - loss: 1.0592 - accuracy: 0.6054\n",
      "Epoch 4/50\n",
      "199/199 [==============================] - 5s 26ms/step - loss: 0.8709 - accuracy: 0.6986\n",
      "Epoch 5/50\n",
      "199/199 [==============================] - 5s 26ms/step - loss: 0.7896 - accuracy: 0.7111\n",
      "Epoch 6/50\n",
      "199/199 [==============================] - 5s 27ms/step - loss: 0.7121 - accuracy: 0.7237\n",
      "Epoch 7/50\n",
      "199/199 [==============================] - 5s 27ms/step - loss: 0.6631 - accuracy: 0.7325\n",
      "Epoch 8/50\n",
      "199/199 [==============================] - 5s 26ms/step - loss: 0.6373 - accuracy: 0.7388\n",
      "Epoch 9/50\n",
      "199/199 [==============================] - 5s 26ms/step - loss: 0.6260 - accuracy: 0.7583\n",
      "Epoch 10/50\n",
      "199/199 [==============================] - 5s 26ms/step - loss: 0.6162 - accuracy: 0.7527\n",
      "Epoch 11/50\n",
      "199/199 [==============================] - 5s 25ms/step - loss: 0.6084 - accuracy: 0.7615\n",
      "Epoch 12/50\n",
      "199/199 [==============================] - 5s 25ms/step - loss: 0.6032 - accuracy: 0.7602\n",
      "Epoch 13/50\n",
      "199/199 [==============================] - 5s 25ms/step - loss: 0.5934 - accuracy: 0.7659\n",
      "Epoch 14/50\n",
      "199/199 [==============================] - 5s 25ms/step - loss: 0.5834 - accuracy: 0.7697\n",
      "Epoch 15/50\n",
      "199/199 [==============================] - 5s 25ms/step - loss: 0.5784 - accuracy: 0.7558\n",
      "Epoch 16/50\n",
      "199/199 [==============================] - 5s 25ms/step - loss: 0.5797 - accuracy: 0.7627\n",
      "Epoch 17/50\n",
      "199/199 [==============================] - 5s 25ms/step - loss: 0.5606 - accuracy: 0.7778\n",
      "Epoch 18/50\n",
      "199/199 [==============================] - 5s 25ms/step - loss: 0.5561 - accuracy: 0.7753\n",
      "Epoch 19/50\n",
      "199/199 [==============================] - 5s 25ms/step - loss: 0.5499 - accuracy: 0.7810\n",
      "Epoch 20/50\n",
      "199/199 [==============================] - 5s 26ms/step - loss: 0.5407 - accuracy: 0.7791\n",
      "Epoch 21/50\n",
      "199/199 [==============================] - 5s 25ms/step - loss: 0.5294 - accuracy: 0.7854\n",
      "Epoch 22/50\n",
      "199/199 [==============================] - 5s 25ms/step - loss: 0.5280 - accuracy: 0.7772\n",
      "Epoch 23/50\n",
      "199/199 [==============================] - 5s 25ms/step - loss: 0.5199 - accuracy: 0.7841\n",
      "Epoch 24/50\n",
      "199/199 [==============================] - 5s 25ms/step - loss: 0.5166 - accuracy: 0.7854\n",
      "Epoch 25/50\n",
      "199/199 [==============================] - 5s 25ms/step - loss: 0.5014 - accuracy: 0.8024\n",
      "Epoch 26/50\n",
      "199/199 [==============================] - 5s 25ms/step - loss: 0.4963 - accuracy: 0.7974\n",
      "Epoch 27/50\n",
      "199/199 [==============================] - 5s 25ms/step - loss: 0.4881 - accuracy: 0.7860\n",
      "Epoch 28/50\n",
      "199/199 [==============================] - 5s 25ms/step - loss: 0.5037 - accuracy: 0.7854\n",
      "Epoch 29/50\n",
      "199/199 [==============================] - 5s 25ms/step - loss: 0.4829 - accuracy: 0.7923\n",
      "Epoch 30/50\n",
      "199/199 [==============================] - 5s 25ms/step - loss: 0.4760 - accuracy: 0.7955\n",
      "Epoch 31/50\n",
      "199/199 [==============================] - 5s 25ms/step - loss: 0.4747 - accuracy: 0.7999\n",
      "Epoch 32/50\n",
      "199/199 [==============================] - 5s 25ms/step - loss: 0.4688 - accuracy: 0.8043\n",
      "Epoch 33/50\n",
      "199/199 [==============================] - 5s 25ms/step - loss: 0.4625 - accuracy: 0.7992\n",
      "Epoch 34/50\n",
      "199/199 [==============================] - 5s 25ms/step - loss: 0.4523 - accuracy: 0.8169\n",
      "Epoch 35/50\n",
      "199/199 [==============================] - 5s 25ms/step - loss: 0.4536 - accuracy: 0.8150\n",
      "Epoch 36/50\n",
      "199/199 [==============================] - 5s 25ms/step - loss: 0.4495 - accuracy: 0.8099\n",
      "Epoch 37/50\n",
      "199/199 [==============================] - 5s 25ms/step - loss: 0.4464 - accuracy: 0.8175\n",
      "Epoch 38/50\n",
      "199/199 [==============================] - 5s 25ms/step - loss: 0.4424 - accuracy: 0.8150\n",
      "Epoch 39/50\n",
      "199/199 [==============================] - 5s 24ms/step - loss: 0.4380 - accuracy: 0.8238\n",
      "Epoch 40/50\n",
      "199/199 [==============================] - 5s 25ms/step - loss: 0.4475 - accuracy: 0.8112\n",
      "Epoch 41/50\n",
      "199/199 [==============================] - 5s 24ms/step - loss: 0.4374 - accuracy: 0.8112\n",
      "Epoch 42/50\n",
      "199/199 [==============================] - 5s 24ms/step - loss: 0.4342 - accuracy: 0.8175\n",
      "Epoch 43/50\n",
      "199/199 [==============================] - 5s 25ms/step - loss: 0.4354 - accuracy: 0.8213\n",
      "Epoch 44/50\n",
      "199/199 [==============================] - 5s 26ms/step - loss: 0.4331 - accuracy: 0.8194\n",
      "Epoch 45/50\n",
      "199/199 [==============================] - 5s 25ms/step - loss: 0.4324 - accuracy: 0.8200\n",
      "Epoch 46/50\n",
      "199/199 [==============================] - 5s 25ms/step - loss: 0.4358 - accuracy: 0.8156\n",
      "Epoch 47/50\n",
      "199/199 [==============================] - 5s 25ms/step - loss: 0.4306 - accuracy: 0.8213\n",
      "Epoch 48/50\n",
      "199/199 [==============================] - 5s 24ms/step - loss: 0.4279 - accuracy: 0.8213\n",
      "Epoch 49/50\n",
      "199/199 [==============================] - 5s 25ms/step - loss: 0.4209 - accuracy: 0.8200\n",
      "Epoch 50/50\n",
      "199/199 [==============================] - 5s 25ms/step - loss: 0.4256 - accuracy: 0.8244\n"
     ]
    }
   ],
   "source": [
    "trained_model = train_model(model, X_train_final, onehot_labels_train, 0.0001, 50, 8)"
   ]
  },
  {
   "cell_type": "code",
   "execution_count": 5,
   "id": "6a0d935e-f74d-4239-90ef-4541e674c676",
   "metadata": {},
   "outputs": [
    {
     "name": "stdout",
     "output_type": "stream",
     "text": [
      "(476, 3)\n"
     ]
    },
    {
     "ename": "ValueError",
     "evalue": "cannot reshape array of size 1428 into shape (476,10,3)",
     "output_type": "error",
     "traceback": [
      "\u001b[0;31m---------------------------------------------------------------------------\u001b[0m",
      "\u001b[0;31mValueError\u001b[0m                                Traceback (most recent call last)",
      "Cell \u001b[0;32mIn[5], line 5\u001b[0m\n\u001b[1;32m      3\u001b[0m \u001b[38;5;28mprint\u001b[39m(selected_data\u001b[38;5;241m.\u001b[39mshape)\n\u001b[1;32m      4\u001b[0m \u001b[38;5;66;03m# Thay đổi hình dạng của mảng thành (1, 10, 3)\u001b[39;00m\n\u001b[0;32m----> 5\u001b[0m X_new_final \u001b[38;5;241m=\u001b[39m \u001b[43mselected_data\u001b[49m\u001b[38;5;241;43m.\u001b[39;49m\u001b[43mreshape\u001b[49m\u001b[43m(\u001b[49m\u001b[43m(\u001b[49m\u001b[38;5;241;43m476\u001b[39;49m\u001b[43m,\u001b[49m\u001b[43m \u001b[49m\u001b[38;5;241;43m10\u001b[39;49m\u001b[43m,\u001b[49m\u001b[43m \u001b[49m\u001b[38;5;241;43m3\u001b[39;49m\u001b[43m)\u001b[49m\u001b[43m)\u001b[49m\n\u001b[1;32m      7\u001b[0m \u001b[38;5;66;03m# print(X_new_final.shape)\u001b[39;00m\n",
      "\u001b[0;31mValueError\u001b[0m: cannot reshape array of size 1428 into shape (476,10,3)"
     ]
    }
   ],
   "source": [
    "data = pd.read_csv(\"datatest2.csv\")\n",
    "X = df.iloc[:, :3]\n",
    "    y = df['AQI']\n",
    "\n",
    "    y = np.reshape(y, (y.shape[0], 1))"
   ]
  },
  {
   "cell_type": "code",
   "execution_count": 10,
   "id": "f3ced7d7-f38d-4b26-89c2-cdae5c78abcb",
   "metadata": {},
   "outputs": [
    {
     "name": "stdout",
     "output_type": "stream",
     "text": [
      "13/13 [==============================] - 0s 6ms/step\n"
     ]
    }
   ],
   "source": [
    "y_pred = trained_model.predict(X_test_final)\n",
    "y_pred = np.argmax(y_pred, axis=1)"
   ]
  },
  {
   "cell_type": "code",
   "execution_count": 12,
   "id": "42d072c2-2c63-42a2-919e-8b17a2ee712b",
   "metadata": {},
   "outputs": [
    {
     "name": "stdout",
     "output_type": "stream",
     "text": [
      "0.882051282051282\n",
      "              precision    recall  f1-score   support\n",
      "\n",
      "           1       0.92      0.80      0.85       125\n",
      "           2       0.88      0.95      0.91       249\n",
      "           3       0.67      0.50      0.57        16\n",
      "           4       0.00      0.00      0.00         0\n",
      "           5       0.00      0.00      0.00         0\n",
      "\n",
      "   micro avg       0.88      0.88      0.88       390\n",
      "   macro avg       0.49      0.45      0.47       390\n",
      "weighted avg       0.88      0.88      0.88       390\n",
      "\n"
     ]
    },
    {
     "name": "stderr",
     "output_type": "stream",
     "text": [
      "/home/jupyter-iec_haoquy/.local/lib/python3.10/site-packages/sklearn/metrics/_classification.py:1509: UndefinedMetricWarning: Precision is ill-defined and being set to 0.0 in labels with no predicted samples. Use `zero_division` parameter to control this behavior.\n",
      "  _warn_prf(average, modifier, f\"{metric.capitalize()} is\", len(result))\n",
      "/home/jupyter-iec_haoquy/.local/lib/python3.10/site-packages/sklearn/metrics/_classification.py:1509: UndefinedMetricWarning: Recall is ill-defined and being set to 0.0 in labels with no true samples. Use `zero_division` parameter to control this behavior.\n",
      "  _warn_prf(average, modifier, f\"{metric.capitalize()} is\", len(result))\n",
      "/home/jupyter-iec_haoquy/.local/lib/python3.10/site-packages/sklearn/metrics/_classification.py:1509: UndefinedMetricWarning: F-score is ill-defined and being set to 0.0 in labels with no true nor predicted samples. Use `zero_division` parameter to control this behavior.\n",
      "  _warn_prf(average, modifier, f\"{metric.capitalize()} is\", len(result))\n",
      "/home/jupyter-iec_haoquy/.local/lib/python3.10/site-packages/sklearn/metrics/_classification.py:1509: UndefinedMetricWarning: Precision is ill-defined and being set to 0.0 in labels with no predicted samples. Use `zero_division` parameter to control this behavior.\n",
      "  _warn_prf(average, modifier, f\"{metric.capitalize()} is\", len(result))\n",
      "/home/jupyter-iec_haoquy/.local/lib/python3.10/site-packages/sklearn/metrics/_classification.py:1509: UndefinedMetricWarning: Recall is ill-defined and being set to 0.0 in labels with no true samples. Use `zero_division` parameter to control this behavior.\n",
      "  _warn_prf(average, modifier, f\"{metric.capitalize()} is\", len(result))\n",
      "/home/jupyter-iec_haoquy/.local/lib/python3.10/site-packages/sklearn/metrics/_classification.py:1509: UndefinedMetricWarning: F-score is ill-defined and being set to 0.0 in labels with no true nor predicted samples. Use `zero_division` parameter to control this behavior.\n",
      "  _warn_prf(average, modifier, f\"{metric.capitalize()} is\", len(result))\n",
      "/home/jupyter-iec_haoquy/.local/lib/python3.10/site-packages/sklearn/metrics/_classification.py:1509: UndefinedMetricWarning: Precision is ill-defined and being set to 0.0 in labels with no predicted samples. Use `zero_division` parameter to control this behavior.\n",
      "  _warn_prf(average, modifier, f\"{metric.capitalize()} is\", len(result))\n",
      "/home/jupyter-iec_haoquy/.local/lib/python3.10/site-packages/sklearn/metrics/_classification.py:1509: UndefinedMetricWarning: Recall is ill-defined and being set to 0.0 in labels with no true samples. Use `zero_division` parameter to control this behavior.\n",
      "  _warn_prf(average, modifier, f\"{metric.capitalize()} is\", len(result))\n",
      "/home/jupyter-iec_haoquy/.local/lib/python3.10/site-packages/sklearn/metrics/_classification.py:1509: UndefinedMetricWarning: F-score is ill-defined and being set to 0.0 in labels with no true nor predicted samples. Use `zero_division` parameter to control this behavior.\n",
      "  _warn_prf(average, modifier, f\"{metric.capitalize()} is\", len(result))\n"
     ]
    }
   ],
   "source": [
    "print(accuracy_score(y_test_final, y_pred))\n",
    "print(classification_report(y_test_final, y_pred, labels=[1, 2, 3, 4, 5])) "
   ]
  },
  {
   "cell_type": "code",
   "execution_count": 13,
   "id": "1a9f5109-a1b0-40b7-81fc-a0da28f10868",
   "metadata": {},
   "outputs": [],
   "source": [
    "import pickle\n",
    "# save the model to disk\n",
    "filename = 'model1.h5'\n",
    "pickle.dump(trained_model, open(filename, 'wb'))"
   ]
  },
  {
   "cell_type": "code",
   "execution_count": 14,
   "id": "216b2e7b-4779-4d8f-9a7e-46395825f355",
   "metadata": {},
   "outputs": [
    {
     "name": "stderr",
     "output_type": "stream",
     "text": [
      "/opt/tljh/user/lib/python3.10/site-packages/keras/src/engine/training.py:3103: UserWarning: You are saving your model as an HDF5 file via `model.save()`. This file format is considered legacy. We recommend using instead the native Keras format, e.g. `model.save('my_model.keras')`.\n",
      "  saving_api.save_model(\n"
     ]
    }
   ],
   "source": [
    "trained_model.save('my_model.h5')"
   ]
  },
  {
   "cell_type": "code",
   "execution_count": null,
   "id": "a9349058-594b-4cf5-9c34-57f3693abe0d",
   "metadata": {},
   "outputs": [],
   "source": []
  }
 ],
 "metadata": {
  "kernelspec": {
   "display_name": "Python 3 (ipykernel)",
   "language": "python",
   "name": "python3"
  },
  "language_info": {
   "codemirror_mode": {
    "name": "ipython",
    "version": 3
   },
   "file_extension": ".py",
   "mimetype": "text/x-python",
   "name": "python",
   "nbconvert_exporter": "python",
   "pygments_lexer": "ipython3",
   "version": "3.10.14"
  }
 },
 "nbformat": 4,
 "nbformat_minor": 5
}
